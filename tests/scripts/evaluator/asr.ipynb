{
 "cells": [
  {
   "cell_type": "code",
   "execution_count": null,
   "id": "35b81fb5",
   "metadata": {},
   "outputs": [],
   "source": [
    "import numpy as np\n",
    "\n",
    "def compute_average_lagging(coverage:np.ndarray, L:float):\n",
    "    coverage = np.asarray(coverage, dtype=np.float32)\n",
    "    if coverage.ndim != 1:\n",
    "        raise ValueError(\"coverage must be a 1-dimensional array\")\n",
    "    if not np.isfinite(coverage).all():\n",
    "        raise ValueError(\"coverage must contain only finite values\")\n",
    "    if not np.isfinite(L):\n",
    "        raise ValueError(\"L must be a finite value\")\n",
    "    if L <= 0:\n",
    "        raise ValueError(\"L must be a positive value\")\n",
    "    if np.any(coverage > L):\n",
    "        raise ValueError(\"all elements in coverage must be less than or equal to L\")\n",
    "    if not np.all(coverage[1:] >= coverage[:-1]):   # 단조 비감소\n",
    "        raise ValueError(\"coverage must be a non-decreasing sequence\")\n",
    "\n",
    "    J = coverage.size\n",
    "    idx = int(np.searchsorted(coverage, L, side='left'))\n",
    "    tau = int(idx + 1) if idx < J else J\n",
    "    j = np.arange(1, tau + 1, dtype=np.float32)\n",
    "    return float(np.mean(coverage[:tau] - (j - 1) * (L / J)))"
   ]
  },
  {
   "cell_type": "code",
   "execution_count": null,
   "id": "cb18c595",
   "metadata": {},
   "outputs": [],
   "source": [
    "def compute_average_proportion(coverage:np.ndarray, L:float):\n",
    "    coverage = np.asarray(coverage, dtype=np.float32)\n",
    "    if coverage.ndim != 1:\n",
    "        raise ValueError(\"coverage must be a 1-dimensional array\")\n",
    "    if not np.isfinite(coverage).all():\n",
    "        raise ValueError(\"coverage must contain only finite values\")\n",
    "    if not np.isfinite(L):\n",
    "        raise ValueError(\"L must be a finite value\")\n",
    "    if L <= 0:\n",
    "        raise ValueError(\"L must be a positive value\")\n",
    "    if np.any(coverage > L):\n",
    "        raise ValueError(\"all elements in coverage must be less than or equal to L\")\n",
    "    if not np.all(coverage[1:] >= coverage[:-1]):   # 단조 비감소\n",
    "        raise ValueError(\"coverage must be a non-decreasing sequence\")\n",
    "\n",
    "    J = coverage.size\n",
    "    ap = float(coverage.sum() / (L * J))\n",
    "    return ap"
   ]
  },
  {
   "cell_type": "code",
   "execution_count": null,
   "id": "bfc3fc5f",
   "metadata": {},
   "outputs": [],
   "source": [
    "coverage = np.array([1.0, 2.0])\n",
    "L = 2"
   ]
  },
  {
   "cell_type": "code",
   "execution_count": null,
   "id": "0268d479",
   "metadata": {},
   "outputs": [],
   "source": [
    "compute_average_lagging(coverage, L)"
   ]
  },
  {
   "cell_type": "code",
   "execution_count": null,
   "id": "2a295965",
   "metadata": {},
   "outputs": [],
   "source": [
    "compute_average_proportion(coverage, L)"
   ]
  }
 ],
 "metadata": {
  "kernelspec": {
   "display_name": "python-utils",
   "language": "python",
   "name": "python3"
  },
  "language_info": {
   "codemirror_mode": {
    "name": "ipython",
    "version": 3
   },
   "file_extension": ".py",
   "mimetype": "text/x-python",
   "name": "python",
   "nbconvert_exporter": "python",
   "pygments_lexer": "ipython3",
   "version": "3.10.12"
  }
 },
 "nbformat": 4,
 "nbformat_minor": 5
}
