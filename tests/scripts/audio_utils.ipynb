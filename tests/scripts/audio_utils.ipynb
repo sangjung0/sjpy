{
 "cells": [
  {
   "cell_type": "code",
   "execution_count": null,
   "id": "4a80fe06",
   "metadata": {},
   "outputs": [],
   "source": [
    "import librosa"
   ]
  },
  {
   "cell_type": "code",
   "execution_count": null,
   "id": "0bc558b4",
   "metadata": {},
   "outputs": [],
   "source": [
    "from sj_utils import audio_utils"
   ]
  },
  {
   "cell_type": "code",
   "execution_count": null,
   "id": "ff0b97b9",
   "metadata": {},
   "outputs": [],
   "source": [
    "TEST_MP4 = \"/workspaces/dev/.data/test.mp4\"\n",
    "TEST_MP3 = \"/workspaces/dev/.data/test.mp3\""
   ]
  },
  {
   "cell_type": "code",
   "execution_count": null,
   "id": "27a99e6e",
   "metadata": {},
   "outputs": [],
   "source": [
    "audio, sr = audio_utils.load_audio_from_mp4(TEST_MP4, sr=16000)"
   ]
  },
  {
   "cell_type": "code",
   "execution_count": null,
   "id": "099b9869",
   "metadata": {},
   "outputs": [],
   "source": [
    "print(audio.shape, audio.dtype, sr)"
   ]
  },
  {
   "cell_type": "code",
   "execution_count": null,
   "id": "69e53809",
   "metadata": {},
   "outputs": [],
   "source": [
    "audio, sr = librosa.load(TEST_MP3, sr=16000)"
   ]
  },
  {
   "cell_type": "code",
   "execution_count": null,
   "id": "988b28c1",
   "metadata": {},
   "outputs": [],
   "source": [
    "print(audio.shape, audio.dtype, sr)"
   ]
  }
 ],
 "metadata": {
  "kernelspec": {
   "display_name": "Python 3",
   "language": "python",
   "name": "python3"
  },
  "language_info": {
   "codemirror_mode": {
    "name": "ipython",
    "version": 3
   },
   "file_extension": ".py",
   "mimetype": "text/x-python",
   "name": "python",
   "nbconvert_exporter": "python",
   "pygments_lexer": "ipython3",
   "version": "3.10.12"
  }
 },
 "nbformat": 4,
 "nbformat_minor": 5
}
